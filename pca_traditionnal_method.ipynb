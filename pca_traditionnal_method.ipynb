{
 "cells": [
  {
   "cell_type": "code",
   "execution_count": 241,
   "id": "cf9710a9",
   "metadata": {},
   "outputs": [],
   "source": [
    "import numpy as np\n",
    "import pandas as pd\n",
    "import matplotlib.pyplot as mp \n",
    "import math "
   ]
  },
  {
   "cell_type": "code",
   "execution_count": 168,
   "id": "be08b517",
   "metadata": {},
   "outputs": [],
   "source": [
    "data = pd.read_excel(\"dataset.xlsx\")\n"
   ]
  },
  {
   "cell_type": "code",
   "execution_count": 257,
   "id": "6ad9b781",
   "metadata": {},
   "outputs": [
    {
     "data": {
      "text/html": [
       "<div>\n",
       "<style scoped>\n",
       "    .dataframe tbody tr th:only-of-type {\n",
       "        vertical-align: middle;\n",
       "    }\n",
       "\n",
       "    .dataframe tbody tr th {\n",
       "        vertical-align: top;\n",
       "    }\n",
       "\n",
       "    .dataframe thead th {\n",
       "        text-align: right;\n",
       "    }\n",
       "</style>\n",
       "<table border=\"1\" class=\"dataframe\">\n",
       "  <thead>\n",
       "    <tr style=\"text-align: right;\">\n",
       "      <th></th>\n",
       "      <th>pre_il7</th>\n",
       "      <th>pre_il8</th>\n",
       "      <th>pre_il10</th>\n",
       "      <th>pre_il15</th>\n",
       "      <th>2w_il2</th>\n",
       "      <th>2w_ip10</th>\n",
       "      <th>2w_scd40l</th>\n",
       "    </tr>\n",
       "  </thead>\n",
       "  <tbody>\n",
       "    <tr>\n",
       "      <th>0</th>\n",
       "      <td>22.310</td>\n",
       "      <td>13.540</td>\n",
       "      <td>566.690</td>\n",
       "      <td>23.170</td>\n",
       "      <td>58.920</td>\n",
       "      <td>76.00</td>\n",
       "      <td>1814.000</td>\n",
       "    </tr>\n",
       "    <tr>\n",
       "      <th>1</th>\n",
       "      <td>20.020</td>\n",
       "      <td>11.310</td>\n",
       "      <td>423.230</td>\n",
       "      <td>2.270</td>\n",
       "      <td>21.590</td>\n",
       "      <td>218.00</td>\n",
       "      <td>871.000</td>\n",
       "    </tr>\n",
       "    <tr>\n",
       "      <th>2</th>\n",
       "      <td>2.000</td>\n",
       "      <td>8.010</td>\n",
       "      <td>76.110</td>\n",
       "      <td>1.020</td>\n",
       "      <td>15.820</td>\n",
       "      <td>166.00</td>\n",
       "      <td>379.000</td>\n",
       "    </tr>\n",
       "    <tr>\n",
       "      <th>3</th>\n",
       "      <td>75.890</td>\n",
       "      <td>22.300</td>\n",
       "      <td>284.870</td>\n",
       "      <td>50.350</td>\n",
       "      <td>16.250</td>\n",
       "      <td>753.00</td>\n",
       "      <td>311.000</td>\n",
       "    </tr>\n",
       "    <tr>\n",
       "      <th>4</th>\n",
       "      <td>41.830</td>\n",
       "      <td>6.820</td>\n",
       "      <td>154.310</td>\n",
       "      <td>46.110</td>\n",
       "      <td>12.870</td>\n",
       "      <td>227.00</td>\n",
       "      <td>232.000</td>\n",
       "    </tr>\n",
       "    <tr>\n",
       "      <th>...</th>\n",
       "      <td>...</td>\n",
       "      <td>...</td>\n",
       "      <td>...</td>\n",
       "      <td>...</td>\n",
       "      <td>...</td>\n",
       "      <td>...</td>\n",
       "      <td>...</td>\n",
       "    </tr>\n",
       "    <tr>\n",
       "      <th>147</th>\n",
       "      <td>3.200</td>\n",
       "      <td>28.045</td>\n",
       "      <td>15.065</td>\n",
       "      <td>10.740</td>\n",
       "      <td>8.710</td>\n",
       "      <td>325.37</td>\n",
       "      <td>392.385</td>\n",
       "    </tr>\n",
       "    <tr>\n",
       "      <th>148</th>\n",
       "      <td>3.200</td>\n",
       "      <td>8.400</td>\n",
       "      <td>0.010</td>\n",
       "      <td>9.605</td>\n",
       "      <td>77.790</td>\n",
       "      <td>309.15</td>\n",
       "      <td>568.840</td>\n",
       "    </tr>\n",
       "    <tr>\n",
       "      <th>149</th>\n",
       "      <td>478.045</td>\n",
       "      <td>19.970</td>\n",
       "      <td>4.885</td>\n",
       "      <td>24.470</td>\n",
       "      <td>74.870</td>\n",
       "      <td>1206.33</td>\n",
       "      <td>515.290</td>\n",
       "    </tr>\n",
       "    <tr>\n",
       "      <th>150</th>\n",
       "      <td>17.410</td>\n",
       "      <td>9.455</td>\n",
       "      <td>11.490</td>\n",
       "      <td>9.315</td>\n",
       "      <td>8.365</td>\n",
       "      <td>3266.18</td>\n",
       "      <td>250.680</td>\n",
       "    </tr>\n",
       "    <tr>\n",
       "      <th>151</th>\n",
       "      <td>3.200</td>\n",
       "      <td>63.765</td>\n",
       "      <td>10.290</td>\n",
       "      <td>8.375</td>\n",
       "      <td>8.420</td>\n",
       "      <td>214.96</td>\n",
       "      <td>483.840</td>\n",
       "    </tr>\n",
       "  </tbody>\n",
       "</table>\n",
       "<p>152 rows × 7 columns</p>\n",
       "</div>"
      ],
      "text/plain": [
       "     pre_il7  pre_il8  pre_il10  pre_il15  2w_il2  2w_ip10  2w_scd40l\n",
       "0     22.310   13.540   566.690    23.170  58.920    76.00   1814.000\n",
       "1     20.020   11.310   423.230     2.270  21.590   218.00    871.000\n",
       "2      2.000    8.010    76.110     1.020  15.820   166.00    379.000\n",
       "3     75.890   22.300   284.870    50.350  16.250   753.00    311.000\n",
       "4     41.830    6.820   154.310    46.110  12.870   227.00    232.000\n",
       "..       ...      ...       ...       ...     ...      ...        ...\n",
       "147    3.200   28.045    15.065    10.740   8.710   325.37    392.385\n",
       "148    3.200    8.400     0.010     9.605  77.790   309.15    568.840\n",
       "149  478.045   19.970     4.885    24.470  74.870  1206.33    515.290\n",
       "150   17.410    9.455    11.490     9.315   8.365  3266.18    250.680\n",
       "151    3.200   63.765    10.290     8.375   8.420   214.96    483.840\n",
       "\n",
       "[152 rows x 7 columns]"
      ]
     },
     "execution_count": 257,
     "metadata": {},
     "output_type": "execute_result"
    }
   ],
   "source": [
    "data_c= data.iloc[:,[0,1,2,3,4,6,7]]\n",
    "data_c\n",
    "data_c"
   ]
  },
  {
   "cell_type": "markdown",
   "id": "addc7d70",
   "metadata": {},
   "source": [
    "----------------------------------------------------------------------------------------\n",
    "# 1. Data preprocessing\n",
    "---------------------------------------------------------------------------------------"
   ]
  },
  {
   "cell_type": "markdown",
   "id": "ecbdcd40",
   "metadata": {},
   "source": [
    "## a . Center the data"
   ]
  },
  {
   "cell_type": "code",
   "execution_count": 170,
   "id": "5b2b366a",
   "metadata": {},
   "outputs": [
    {
     "data": {
      "text/plain": [
       "pre_il7       14.274455\n",
       "pre_il8       20.127204\n",
       "pre_il10      53.826428\n",
       "pre_il15      13.383520\n",
       "2w_il2        21.245520\n",
       "2w_ip10      574.276706\n",
       "2w_scd40l    498.474934\n",
       "dtype: float64"
      ]
     },
     "execution_count": 170,
     "metadata": {},
     "output_type": "execute_result"
    }
   ],
   "source": [
    "m = data_c.mean() \n",
    "m"
   ]
  },
  {
   "cell_type": "code",
   "execution_count": 171,
   "id": "b451ab7e",
   "metadata": {},
   "outputs": [
    {
     "data": {
      "text/plain": [
       "pre_il7       42.971138\n",
       "pre_il8       29.250614\n",
       "pre_il10     146.757152\n",
       "pre_il15      31.583771\n",
       "2w_il2        61.444545\n",
       "2w_ip10      577.548576\n",
       "2w_scd40l    873.533673\n",
       "dtype: float64"
      ]
     },
     "execution_count": 171,
     "metadata": {},
     "output_type": "execute_result"
    }
   ],
   "source": [
    "std = data_c.std()\n",
    "std"
   ]
  },
  {
   "cell_type": "code",
   "execution_count": 172,
   "id": "58376ec0",
   "metadata": {},
   "outputs": [
    {
     "data": {
      "text/plain": [
       "7"
      ]
     },
     "execution_count": 172,
     "metadata": {},
     "output_type": "execute_result"
    }
   ],
   "source": [
    "m.size"
   ]
  },
  {
   "cell_type": "code",
   "execution_count": 173,
   "id": "a0c1803c",
   "metadata": {},
   "outputs": [],
   "source": [
    "x_centered = data_c\n"
   ]
  },
  {
   "cell_type": "code",
   "execution_count": 174,
   "id": "b196c19e",
   "metadata": {},
   "outputs": [
    {
     "name": "stderr",
     "output_type": "stream",
     "text": [
      "/tmp/ipykernel_14259/2970337213.py:2: SettingWithCopyWarning: \n",
      "A value is trying to be set on a copy of a slice from a DataFrame.\n",
      "Try using .loc[row_indexer,col_indexer] = value instead\n",
      "\n",
      "See the caveats in the documentation: https://pandas.pydata.org/pandas-docs/stable/user_guide/indexing.html#returning-a-view-versus-a-copy\n",
      "  x_centered.iloc[:,i]= (x_centered.iloc[:,i] - m[i])/std[i]\n",
      "/tmp/ipykernel_14259/2970337213.py:2: SettingWithCopyWarning: \n",
      "A value is trying to be set on a copy of a slice from a DataFrame.\n",
      "Try using .loc[row_indexer,col_indexer] = value instead\n",
      "\n",
      "See the caveats in the documentation: https://pandas.pydata.org/pandas-docs/stable/user_guide/indexing.html#returning-a-view-versus-a-copy\n",
      "  x_centered.iloc[:,i]= (x_centered.iloc[:,i] - m[i])/std[i]\n",
      "/tmp/ipykernel_14259/2970337213.py:2: SettingWithCopyWarning: \n",
      "A value is trying to be set on a copy of a slice from a DataFrame.\n",
      "Try using .loc[row_indexer,col_indexer] = value instead\n",
      "\n",
      "See the caveats in the documentation: https://pandas.pydata.org/pandas-docs/stable/user_guide/indexing.html#returning-a-view-versus-a-copy\n",
      "  x_centered.iloc[:,i]= (x_centered.iloc[:,i] - m[i])/std[i]\n",
      "/tmp/ipykernel_14259/2970337213.py:2: SettingWithCopyWarning: \n",
      "A value is trying to be set on a copy of a slice from a DataFrame.\n",
      "Try using .loc[row_indexer,col_indexer] = value instead\n",
      "\n",
      "See the caveats in the documentation: https://pandas.pydata.org/pandas-docs/stable/user_guide/indexing.html#returning-a-view-versus-a-copy\n",
      "  x_centered.iloc[:,i]= (x_centered.iloc[:,i] - m[i])/std[i]\n",
      "/tmp/ipykernel_14259/2970337213.py:2: SettingWithCopyWarning: \n",
      "A value is trying to be set on a copy of a slice from a DataFrame.\n",
      "Try using .loc[row_indexer,col_indexer] = value instead\n",
      "\n",
      "See the caveats in the documentation: https://pandas.pydata.org/pandas-docs/stable/user_guide/indexing.html#returning-a-view-versus-a-copy\n",
      "  x_centered.iloc[:,i]= (x_centered.iloc[:,i] - m[i])/std[i]\n",
      "/tmp/ipykernel_14259/2970337213.py:2: SettingWithCopyWarning: \n",
      "A value is trying to be set on a copy of a slice from a DataFrame.\n",
      "Try using .loc[row_indexer,col_indexer] = value instead\n",
      "\n",
      "See the caveats in the documentation: https://pandas.pydata.org/pandas-docs/stable/user_guide/indexing.html#returning-a-view-versus-a-copy\n",
      "  x_centered.iloc[:,i]= (x_centered.iloc[:,i] - m[i])/std[i]\n",
      "/tmp/ipykernel_14259/2970337213.py:2: SettingWithCopyWarning: \n",
      "A value is trying to be set on a copy of a slice from a DataFrame.\n",
      "Try using .loc[row_indexer,col_indexer] = value instead\n",
      "\n",
      "See the caveats in the documentation: https://pandas.pydata.org/pandas-docs/stable/user_guide/indexing.html#returning-a-view-versus-a-copy\n",
      "  x_centered.iloc[:,i]= (x_centered.iloc[:,i] - m[i])/std[i]\n"
     ]
    }
   ],
   "source": [
    "for i in range(m.size):\n",
    "    x_centered.iloc[:,i]= (x_centered.iloc[:,i] - m[i])/std[i]"
   ]
  },
  {
   "cell_type": "code",
   "execution_count": 175,
   "id": "99422308",
   "metadata": {},
   "outputs": [
    {
     "data": {
      "text/html": [
       "<div>\n",
       "<style scoped>\n",
       "    .dataframe tbody tr th:only-of-type {\n",
       "        vertical-align: middle;\n",
       "    }\n",
       "\n",
       "    .dataframe tbody tr th {\n",
       "        vertical-align: top;\n",
       "    }\n",
       "\n",
       "    .dataframe thead th {\n",
       "        text-align: right;\n",
       "    }\n",
       "</style>\n",
       "<table border=\"1\" class=\"dataframe\">\n",
       "  <thead>\n",
       "    <tr style=\"text-align: right;\">\n",
       "      <th></th>\n",
       "      <th>pre_il7</th>\n",
       "      <th>pre_il8</th>\n",
       "      <th>pre_il10</th>\n",
       "      <th>pre_il15</th>\n",
       "      <th>2w_il2</th>\n",
       "      <th>2w_ip10</th>\n",
       "      <th>2w_scd40l</th>\n",
       "    </tr>\n",
       "  </thead>\n",
       "  <tbody>\n",
       "    <tr>\n",
       "      <th>0</th>\n",
       "      <td>0.186999</td>\n",
       "      <td>-0.225199</td>\n",
       "      <td>3.494641</td>\n",
       "      <td>0.309858</td>\n",
       "      <td>0.613146</td>\n",
       "      <td>-0.862744</td>\n",
       "      <td>1.505981</td>\n",
       "    </tr>\n",
       "    <tr>\n",
       "      <th>1</th>\n",
       "      <td>0.133707</td>\n",
       "      <td>-0.301437</td>\n",
       "      <td>2.517108</td>\n",
       "      <td>-0.351874</td>\n",
       "      <td>0.005606</td>\n",
       "      <td>-0.616877</td>\n",
       "      <td>0.426458</td>\n",
       "    </tr>\n",
       "    <tr>\n",
       "      <th>2</th>\n",
       "      <td>-0.285644</td>\n",
       "      <td>-0.414255</td>\n",
       "      <td>0.151840</td>\n",
       "      <td>-0.391452</td>\n",
       "      <td>-0.088299</td>\n",
       "      <td>-0.706913</td>\n",
       "      <td>-0.136772</td>\n",
       "    </tr>\n",
       "    <tr>\n",
       "      <th>3</th>\n",
       "      <td>1.433882</td>\n",
       "      <td>0.074282</td>\n",
       "      <td>1.574326</td>\n",
       "      <td>1.170426</td>\n",
       "      <td>-0.081301</td>\n",
       "      <td>0.309452</td>\n",
       "      <td>-0.214617</td>\n",
       "    </tr>\n",
       "    <tr>\n",
       "      <th>4</th>\n",
       "      <td>0.641257</td>\n",
       "      <td>-0.454938</td>\n",
       "      <td>0.684693</td>\n",
       "      <td>1.036180</td>\n",
       "      <td>-0.136310</td>\n",
       "      <td>-0.601294</td>\n",
       "      <td>-0.305054</td>\n",
       "    </tr>\n",
       "    <tr>\n",
       "      <th>...</th>\n",
       "      <td>...</td>\n",
       "      <td>...</td>\n",
       "      <td>...</td>\n",
       "      <td>...</td>\n",
       "      <td>...</td>\n",
       "      <td>...</td>\n",
       "      <td>...</td>\n",
       "    </tr>\n",
       "    <tr>\n",
       "      <th>147</th>\n",
       "      <td>-0.257718</td>\n",
       "      <td>0.270688</td>\n",
       "      <td>-0.264120</td>\n",
       "      <td>-0.083699</td>\n",
       "      <td>-0.204014</td>\n",
       "      <td>-0.430971</td>\n",
       "      <td>-0.121449</td>\n",
       "    </tr>\n",
       "    <tr>\n",
       "      <th>148</th>\n",
       "      <td>-0.257718</td>\n",
       "      <td>-0.400922</td>\n",
       "      <td>-0.366704</td>\n",
       "      <td>-0.119635</td>\n",
       "      <td>0.920252</td>\n",
       "      <td>-0.459055</td>\n",
       "      <td>0.080552</td>\n",
       "    </tr>\n",
       "    <tr>\n",
       "      <th>149</th>\n",
       "      <td>10.792606</td>\n",
       "      <td>-0.005374</td>\n",
       "      <td>-0.333486</td>\n",
       "      <td>0.351018</td>\n",
       "      <td>0.872730</td>\n",
       "      <td>1.094373</td>\n",
       "      <td>0.019249</td>\n",
       "    </tr>\n",
       "    <tr>\n",
       "      <th>150</th>\n",
       "      <td>0.072969</td>\n",
       "      <td>-0.364854</td>\n",
       "      <td>-0.288479</td>\n",
       "      <td>-0.128817</td>\n",
       "      <td>-0.209628</td>\n",
       "      <td>4.660912</td>\n",
       "      <td>-0.283670</td>\n",
       "    </tr>\n",
       "    <tr>\n",
       "      <th>151</th>\n",
       "      <td>-0.257718</td>\n",
       "      <td>1.491859</td>\n",
       "      <td>-0.296656</td>\n",
       "      <td>-0.158579</td>\n",
       "      <td>-0.208733</td>\n",
       "      <td>-0.622141</td>\n",
       "      <td>-0.016754</td>\n",
       "    </tr>\n",
       "  </tbody>\n",
       "</table>\n",
       "<p>152 rows × 7 columns</p>\n",
       "</div>"
      ],
      "text/plain": [
       "       pre_il7   pre_il8  pre_il10  pre_il15    2w_il2   2w_ip10  2w_scd40l\n",
       "0     0.186999 -0.225199  3.494641  0.309858  0.613146 -0.862744   1.505981\n",
       "1     0.133707 -0.301437  2.517108 -0.351874  0.005606 -0.616877   0.426458\n",
       "2    -0.285644 -0.414255  0.151840 -0.391452 -0.088299 -0.706913  -0.136772\n",
       "3     1.433882  0.074282  1.574326  1.170426 -0.081301  0.309452  -0.214617\n",
       "4     0.641257 -0.454938  0.684693  1.036180 -0.136310 -0.601294  -0.305054\n",
       "..         ...       ...       ...       ...       ...       ...        ...\n",
       "147  -0.257718  0.270688 -0.264120 -0.083699 -0.204014 -0.430971  -0.121449\n",
       "148  -0.257718 -0.400922 -0.366704 -0.119635  0.920252 -0.459055   0.080552\n",
       "149  10.792606 -0.005374 -0.333486  0.351018  0.872730  1.094373   0.019249\n",
       "150   0.072969 -0.364854 -0.288479 -0.128817 -0.209628  4.660912  -0.283670\n",
       "151  -0.257718  1.491859 -0.296656 -0.158579 -0.208733 -0.622141  -0.016754\n",
       "\n",
       "[152 rows x 7 columns]"
      ]
     },
     "execution_count": 175,
     "metadata": {},
     "output_type": "execute_result"
    }
   ],
   "source": [
    "x_centered"
   ]
  },
  {
   "cell_type": "markdown",
   "id": "9cf967d6",
   "metadata": {},
   "source": [
    "--------------------------------------------------------------------------------------\n",
    "# 2. Matrix covariance_variance\n",
    "--------------------------------------------------------------------------------------"
   ]
  },
  {
   "cell_type": "code",
   "execution_count": 176,
   "id": "2ce48651",
   "metadata": {},
   "outputs": [
    {
     "data": {
      "text/plain": [
       "152"
      ]
     },
     "execution_count": 176,
     "metadata": {},
     "output_type": "execute_result"
    }
   ],
   "source": [
    "n = x_centered.shape[0]\n",
    "n"
   ]
  },
  {
   "cell_type": "code",
   "execution_count": 177,
   "id": "5a2da0ee",
   "metadata": {},
   "outputs": [],
   "source": [
    "xc[137,6] = 0"
   ]
  },
  {
   "cell_type": "code",
   "execution_count": 178,
   "id": "aad5204c",
   "metadata": {},
   "outputs": [
    {
     "data": {
      "text/plain": [
       "((7, 7),\n",
       " array([[ 1.83437058e+03,  1.86659804e+02,  1.64500763e+03,\n",
       "          4.11809201e+02,  4.82209042e+02,  3.52526730e+03,\n",
       "          6.82877224e+03],\n",
       "        [ 1.86659804e+02,  8.49969462e+02,  9.51824380e+02,\n",
       "          1.81582560e+02,  5.95048312e+02,  3.25544246e+03,\n",
       "          6.54861200e+03],\n",
       "        [ 1.64500763e+03,  9.51824380e+02,  2.13959665e+04,\n",
       "          2.62123992e+03,  2.41690157e+03, -4.69185133e+03,\n",
       "          5.45701078e+04],\n",
       "        [ 4.11809201e+02,  1.81582560e+02,  2.62123992e+03,\n",
       "          9.90971868e+02,  6.70524201e+02,  1.93557514e+03,\n",
       "          1.36180198e+04],\n",
       "        [ 4.82209042e+02,  5.95048312e+02,  2.41690157e+03,\n",
       "          6.70524201e+02,  3.75059372e+03,  7.19957958e+03,\n",
       "          3.19202643e+04],\n",
       "        [ 3.52526730e+03,  3.25544246e+03, -4.69185133e+03,\n",
       "          1.93557514e+03,  7.19957958e+03,  3.31367868e+05,\n",
       "          7.24728936e+04],\n",
       "        [ 6.82877224e+03,  6.54861200e+03,  5.45701078e+04,\n",
       "          1.36180198e+04,  3.19202643e+04,  7.24728936e+04,\n",
       "          7.53020801e+05]]))"
      ]
     },
     "execution_count": 178,
     "metadata": {},
     "output_type": "execute_result"
    }
   ],
   "source": [
    "co_matrix = (1/n)*np.matmul(xc.transpose(),xc)\n",
    "co_matrix.shape,co_matrix"
   ]
  },
  {
   "cell_type": "markdown",
   "id": "ad385984",
   "metadata": {},
   "source": [
    "-------------------------------------------------------------------------------------------------------------\n",
    "# 3. Eigenvalues\n",
    "-------------------------------------------------------------------------------------------------------------"
   ]
  },
  {
   "cell_type": "code",
   "execution_count": 179,
   "id": "63a9de07",
   "metadata": {},
   "outputs": [
    {
     "data": {
      "text/plain": [
       "((7,),\n",
       " array([7.70684771e+05, 3.19910608e+05, 1.73029820e+04, 2.41393059e+03,\n",
       "        1.63884618e+03, 5.53423624e+02, 7.05980391e+02]))"
      ]
     },
     "execution_count": 179,
     "metadata": {},
     "output_type": "execute_result"
    }
   ],
   "source": [
    "ls,vs = np.linalg.eig(co_matrix)\n",
    "ls.shape , ls"
   ]
  },
  {
   "cell_type": "code",
   "execution_count": 180,
   "id": "a3481e36",
   "metadata": {},
   "outputs": [
    {
     "data": {
      "text/plain": [
       "array([5.53423624e+02, 7.05980391e+02, 1.63884618e+03, 2.41393059e+03,\n",
       "       1.73029820e+04, 3.19910608e+05, 7.70684771e+05])"
      ]
     },
     "execution_count": 180,
     "metadata": {},
     "output_type": "execute_result"
    }
   ],
   "source": [
    "ls=np.sort(ls)\n",
    "ls"
   ]
  },
  {
   "cell_type": "markdown",
   "id": "a65c3dd8",
   "metadata": {},
   "source": [
    "----------------------------------------------------------------------------------------------------------\n",
    "# 4. Quality of representation :\n",
    "---------------------------------------------------------------------------------------------------------"
   ]
  },
  {
   "cell_type": "code",
   "execution_count": 186,
   "id": "9810cd9f",
   "metadata": {},
   "outputs": [
    {
     "name": "stdout",
     "output_type": "stream",
     "text": [
      "0.0004971419181711898\n",
      "0.0011313259869175478\n",
      "0.002603505884164748\n",
      "0.004771946177717155\n",
      "0.02031526103257941\n",
      "0.30769181409537466\n"
     ]
    },
    {
     "data": {
      "text/plain": [
       "7"
      ]
     },
     "execution_count": 186,
     "metadata": {},
     "output_type": "execute_result"
    }
   ],
   "source": [
    "q = [ls[0]]\n",
    "quality = 0\n",
    "for e in range(len(ls)-1):\n",
    "    quality = np.sum(q)/np.sum(ls)\n",
    "    print(quality)\n",
    "    if quality < 0.8:\n",
    "        q.append(ls[e+1])\n",
    "    else:\n",
    "        break\n",
    "len(q)"
   ]
  },
  {
   "cell_type": "markdown",
   "id": "6ee86ea0",
   "metadata": {},
   "source": [
    "----------------------------------------------------------------------------------------------------------\n",
    "# 5. Eigenvectors  :\n",
    "---------------------------------------------------------------------------------------------------------"
   ]
  },
  {
   "cell_type": "code",
   "execution_count": 182,
   "id": "15620f7a",
   "metadata": {},
   "outputs": [
    {
     "data": {
      "text/plain": [
       "array([[ 0.00966539, -0.00727411,  0.08032892,  0.19103837,  0.96750428,\n",
       "        -0.14214546,  0.02520747],\n",
       "       [ 0.0091756 , -0.0066586 ,  0.03400857,  0.16559371,  0.00195631,\n",
       "         0.08188373, -0.9821328 ],\n",
       "       [ 0.07080913,  0.04464549,  0.98748399, -0.04202387, -0.08772951,\n",
       "        -0.08951274,  0.01982951],\n",
       "       [ 0.01808605,  0.00118836,  0.09873677,  0.04467326,  0.12461041,\n",
       "         0.98168811,  0.09320695],\n",
       "       [ 0.04268949, -0.005981  ,  0.01390358,  0.96457912, -0.20150524,\n",
       "        -0.03570239,  0.16017686],\n",
       "       [ 0.1623329 , -0.98604048,  0.03097943, -0.0167723 , -0.00898288,\n",
       "        -0.00359142,  0.00612919],\n",
       "       [ 0.98300915,  0.15998909, -0.07977507, -0.04033824,  0.00472982,\n",
       "        -0.00883701, -0.00219191]])"
      ]
     },
     "execution_count": 182,
     "metadata": {},
     "output_type": "execute_result"
    }
   ],
   "source": [
    "vs"
   ]
  },
  {
   "cell_type": "markdown",
   "id": "6c664a0c",
   "metadata": {},
   "source": [
    "--------------------------------------------------------------------------------------------\n",
    "# 6.Calculate principle components \n",
    "--------------------------------------------------------------------------------------------\n"
   ]
  },
  {
   "cell_type": "code",
   "execution_count": 183,
   "id": "e3a9e69a",
   "metadata": {},
   "outputs": [
    {
     "data": {
      "text/plain": [
       "(152, 7)"
      ]
     },
     "execution_count": 183,
     "metadata": {},
     "output_type": "execute_result"
    }
   ],
   "source": [
    "xc.shape"
   ]
  },
  {
   "cell_type": "code",
   "execution_count": 184,
   "id": "eb7f2b4e",
   "metadata": {},
   "outputs": [
    {
     "data": {
      "text/plain": [
       "7"
      ]
     },
     "execution_count": 184,
     "metadata": {},
     "output_type": "execute_result"
    }
   ],
   "source": [
    "len(vs)"
   ]
  },
  {
   "cell_type": "code",
   "execution_count": 185,
   "id": "5b9bc87a",
   "metadata": {},
   "outputs": [
    {
     "data": {
      "text/plain": [
       "7"
      ]
     },
     "execution_count": 185,
     "metadata": {},
     "output_type": "execute_result"
    }
   ],
   "source": [
    "c = []\n",
    "for i in range(len(vs)):\n",
    "    c.append(np.matmul(xc,vs[i]))\n",
    "\n",
    "len(c)\n",
    "    "
   ]
  },
  {
   "cell_type": "markdown",
   "id": "932c4b3e",
   "metadata": {},
   "source": [
    "---------------------------------------------------------------------------------------------------------\n",
    "# 7.Correlation coffeicients :\n",
    "--------------------------------------------------------------------------------------------------------"
   ]
  },
  {
   "cell_type": "code",
   "execution_count": 209,
   "id": "036d1f24",
   "metadata": {},
   "outputs": [
    {
     "data": {
      "text/plain": [
       "array([[ 8.03554503e+00, -6.58720395e+00,  5.12863572e+02, ...,\n",
       "         3.76744798e+01, -4.98276706e+02,  1.31552507e+03],\n",
       "       [ 5.74554503e+00, -8.81720395e+00,  3.69403572e+02, ...,\n",
       "         3.44479803e-01, -3.56276706e+02,  3.72525066e+02],\n",
       "       [-1.22744550e+01, -1.21172039e+01,  2.22835717e+01, ...,\n",
       "        -5.42552020e+00, -4.08276706e+02, -1.19474934e+02],\n",
       "       ...,\n",
       "       [ 4.63770545e+02, -1.57203947e-01, -4.89414283e+01, ...,\n",
       "         5.36244798e+01,  6.32053294e+02,  1.68150662e+01],\n",
       "       [ 3.13554503e+00, -1.06722039e+01, -4.23364283e+01, ...,\n",
       "        -1.28805202e+01,  2.69190329e+03, -2.47794934e+02],\n",
       "       [-1.10744550e+01,  4.36377961e+01, -4.35364283e+01, ...,\n",
       "        -1.28255202e+01, -3.59316706e+02, -1.46349338e+01]])"
      ]
     },
     "execution_count": 209,
     "metadata": {},
     "output_type": "execute_result"
    }
   ],
   "source": [
    "c6,q6 = np.array(c[5]),q[5]\n",
    "c7,q7 = np.array(c[6]),q[6]\n",
    "c6.shape\n",
    "xc"
   ]
  },
  {
   "cell_type": "code",
   "execution_count": 234,
   "id": "ac8f16bb",
   "metadata": {},
   "outputs": [
    {
     "data": {
      "text/plain": [
       "array([[ 8.03554503e+00,  5.74554503e+00, -1.22744550e+01, ...,\n",
       "         4.63770545e+02,  3.13554503e+00, -1.10744550e+01],\n",
       "       [-6.58720395e+00, -8.81720395e+00, -1.21172039e+01, ...,\n",
       "        -1.57203947e-01, -1.06722039e+01,  4.36377961e+01],\n",
       "       [ 5.12863572e+02,  3.69403572e+02,  2.22835717e+01, ...,\n",
       "        -4.89414283e+01, -4.23364283e+01, -4.35364283e+01],\n",
       "       ...,\n",
       "       [ 3.76744798e+01,  3.44479803e-01, -5.42552020e+00, ...,\n",
       "         5.36244798e+01, -1.28805202e+01, -1.28255202e+01],\n",
       "       [-4.98276706e+02, -3.56276706e+02, -4.08276706e+02, ...,\n",
       "         6.32053294e+02,  2.69190329e+03, -3.59316706e+02],\n",
       "       [ 1.31552507e+03,  3.72525066e+02, -1.19474934e+02, ...,\n",
       "         1.68150662e+01, -2.47794934e+02, -1.46349338e+01]])"
      ]
     },
     "execution_count": 234,
     "metadata": {},
     "output_type": "execute_result"
    }
   ],
   "source": [
    "x=xc.transpose()\n",
    "#np.matmul(x[0,:],c6)\n",
    "x"
   ]
  },
  {
   "cell_type": "code",
   "execution_count": 232,
   "id": "56a8cf32",
   "metadata": {},
   "outputs": [
    {
     "data": {
      "text/plain": [
       "152"
      ]
     },
     "execution_count": 232,
     "metadata": {},
     "output_type": "execute_result"
    }
   ],
   "source": [
    "len(c6)"
   ]
  },
  {
   "cell_type": "code",
   "execution_count": 235,
   "id": "6c885c54",
   "metadata": {
    "scrolled": true
   },
   "outputs": [
    {
     "data": {
      "text/plain": [
       "[1.4044274626517053,\n",
       " -5.5662252591113885,\n",
       " 1.2789905957805767,\n",
       " 0.08202330777794742,\n",
       " -2.3253658556970596,\n",
       " -43.66448902663786,\n",
       " 0.22947151529185003]"
      ]
     },
     "execution_count": 235,
     "metadata": {},
     "output_type": "execute_result"
    }
   ],
   "source": [
    "corr_c6 = []\n",
    "\n",
    "for i in range(7):\n",
    "    corr_c6.append(((1/n)*np.matmul(x[i,:],c6))/(math.sqrt(abs(xc[i,i]/n))*math.sqrt(q6)))\n",
    "corr_c6"
   ]
  },
  {
   "cell_type": "code",
   "execution_count": 236,
   "id": "80c35dac",
   "metadata": {},
   "outputs": [
    {
     "data": {
      "text/plain": [
       "[8.131786726470267,\n",
       " 0.9265605076406004,\n",
       " -0.32719769997966797,\n",
       " 0.32567860379497404,\n",
       " 1.1331445065390477,\n",
       " 9.537364921183208,\n",
       " 0.5834623808771331]"
      ]
     },
     "execution_count": 236,
     "metadata": {},
     "output_type": "execute_result"
    }
   ],
   "source": [
    "corr_c7 = []\n",
    "\n",
    "for i in range(7):\n",
    "    corr_c7.append(((1/n)*np.matmul(x[i,:],c7))/(math.sqrt(abs(xc[i,i]/n))*math.sqrt(q7)))\n",
    "corr_c7"
   ]
  },
  {
   "cell_type": "markdown",
   "id": "12f21724",
   "metadata": {},
   "source": [
    "---------------------------------------------------------------------------------------------------------\n",
    "# 8.plot coffeicients :\n",
    "--------------------------------------------------------------------------------------------------------"
   ]
  },
  {
   "cell_type": "code",
   "execution_count": 255,
   "id": "4d0e4d8f",
   "metadata": {},
   "outputs": [
    {
     "data": {
      "image/png": "[encoded data removed]",
      "text/plain": [
       "<Figure size 432x288 with 1 Axes>"
      ]
     },
     "metadata": {
      "needs_background": "light"
     },
     "output_type": "display_data"
    }
   ],
   "source": [
    "fig, ax = mp.subplots()\n",
    "ax.scatter(corr_c6, corr_c7)\n",
    "n = list(data_c.columns)\n",
    "for i in range(len(n)):\n",
    "    ax.annotate(n[i], (corr_c6[i], corr_c7[i]))\n",
    "\n",
    "mp.show()\n"
   ]
  },
  {
   "cell_type": "code",
   "execution_count": 256,
   "id": "8cd5d33b",
   "metadata": {},
   "outputs": [
    {
     "data": {
      "text/plain": [
       "['pre_il7',\n",
       " 'pre_il8',\n",
       " 'pre_il10',\n",
       " 'pre_il15',\n",
       " '2w_il2',\n",
       " '2w_ip10',\n",
       " '2w_scd40l']"
      ]
     },
     "execution_count": 256,
     "metadata": {},
     "output_type": "execute_result"
    }
   ],
   "source": [
    "n"
   ]
  },
  {
   "cell_type": "code",
   "execution_count": null,
   "id": "6bbdb5dc",
   "metadata": {},
   "outputs": [],
   "source": []
  }
 ],
 "metadata": {
  "kernelspec": {
   "display_name": "Python 3 (ipykernel)",
   "language": "python",
   "name": "python3"
  },
  "language_info": {
   "codemirror_mode": {
    "name": "ipython",
    "version": 3
   },
   "file_extension": ".py",
   "mimetype": "text/x-python",
   "name": "python",
   "nbconvert_exporter": "python",
   "pygments_lexer": "ipython3",
   "version": "3.10.6"
  }
 },
 "nbformat": 4,
 "nbformat_minor": 5
}
